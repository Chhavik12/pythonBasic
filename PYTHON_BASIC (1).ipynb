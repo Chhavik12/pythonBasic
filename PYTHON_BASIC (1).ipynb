{
 "cells": [
  {
   "cell_type": "code",
   "execution_count": 1,
   "id": "37394d55-2d30-4eb6-88a1-fe27e75c10d2",
   "metadata": {},
   "outputs": [
    {
     "data": {
      "text/plain": [
       "'Q1.)What is Python, and why is it popular?\\n>>python is integrated high level programming language\\n  it is very popular because of easy readable syntax;has rich and many libraries;easy to integrate'"
      ]
     },
     "execution_count": 1,
     "metadata": {},
     "output_type": "execute_result"
    }
   ],
   "source": [
    "'''Q1.)What is Python, and why is it popular?\n",
    ">>python is integrated high level programming language\n",
    "  it is very popular because of easy readable syntax;has rich and many libraries;easy to integrate'''"
   ]
  },
  {
   "cell_type": "code",
   "execution_count": 2,
   "id": "fb89ba23-6ec5-4905-b9bc-7b6efa691ba3",
   "metadata": {},
   "outputs": [
    {
     "data": {
      "text/plain": [
       "'Q2.)What is an interpreter in Python?\\n>>interpreter is device which compile code line by line..it is bit slow but flexible and more accurate'"
      ]
     },
     "execution_count": 2,
     "metadata": {},
     "output_type": "execute_result"
    }
   ],
   "source": [
    "'''Q2.)What is an interpreter in Python?\n",
    ">>interpreter is device which compile code line by line..it is bit slow but flexible and more accurate'''"
   ]
  },
  {
   "cell_type": "code",
   "execution_count": 3,
   "id": "07ce2b02-589b-415d-b6d8-f5a66aa7af6e",
   "metadata": {},
   "outputs": [
    {
     "data": {
      "text/plain": [
       "'Q3.)What are pre-defined keywords in Python?\\n>>Keywords are reserved words in Python that have special meaning like if,elif,else,for,while etc'"
      ]
     },
     "execution_count": 3,
     "metadata": {},
     "output_type": "execute_result"
    }
   ],
   "source": [
    "'''Q3.)What are pre-defined keywords in Python?\n",
    ">>Keywords are reserved words in Python that have special meaning like if,elif,else,for,while etc'''"
   ]
  },
  {
   "cell_type": "code",
   "execution_count": 4,
   "id": "486d329c-5ef9-4326-99b9-ab7c486fe526",
   "metadata": {},
   "outputs": [
    {
     "data": {
      "text/plain": [
       "\"Q4.)Can keywords be used as variable names?\\n>>no,keywords can't be used as variable name\""
      ]
     },
     "execution_count": 4,
     "metadata": {},
     "output_type": "execute_result"
    }
   ],
   "source": [
    "'''Q4.)Can keywords be used as variable names?\n",
    ">>no,keywords can't be used as variable name'''"
   ]
  },
  {
   "cell_type": "code",
   "execution_count": 5,
   "id": "c19b4cdb-9b4c-4a00-8211-e22e6f7d54fe",
   "metadata": {},
   "outputs": [
    {
     "data": {
      "text/plain": [
       "'Q5.)What is mutability in Python?\\n>>mutuability means can make changes in a given variable after being created\\n  eg: list=[1,2,3,4]\\n    list[0]=1\\n    list[0]=5\\n    new list will be[5,2,3,4]'"
      ]
     },
     "execution_count": 5,
     "metadata": {},
     "output_type": "execute_result"
    }
   ],
   "source": [
    "'''Q5.)What is mutability in Python?\n",
    ">>mutuability means can make changes in a given variable after being created\n",
    "  eg: list=[1,2,3,4]\n",
    "    list[0]=1\n",
    "    list[0]=5\n",
    "    new list will be[5,2,3,4]'''"
   ]
  },
  {
   "cell_type": "code",
   "execution_count": 6,
   "id": "95b78c39-d088-412f-9341-961c148c8f83",
   "metadata": {},
   "outputs": [
    {
     "data": {
      "text/plain": [
       "\"Q6.)Why are lists mutable, but tuples are immutable?\\n>>list are collection of random data which can be changed over time while tuple are of fixed size which can't be changed\""
      ]
     },
     "execution_count": 6,
     "metadata": {},
     "output_type": "execute_result"
    }
   ],
   "source": [
    "'''Q6.)Why are lists mutable, but tuples are immutable?\n",
    ">>list are collection of random data which can be changed over time while tuple are of fixed size which can't be changed'''"
   ]
  },
  {
   "cell_type": "code",
   "execution_count": null,
   "id": "0f0831d3-bc05-4e47-803b-cf50406adc10",
   "metadata": {},
   "outputs": [],
   "source": [
    "'''Q7.)What is the difference between “==” and “is” operators in Python?\n",
    ">> \"==\" check for same value as both have same value while is check for same memory location both point ot same memory location'''"
   ]
  },
  {
   "cell_type": "code",
   "execution_count": null,
   "id": "2a8c4e8b-694e-44c9-b51f-f825ee2a7af6",
   "metadata": {},
   "outputs": [],
   "source": [
    "'''Q8.)What are logical operators in Python?\n",
    ">>Logical operators are used to combine or manipulate boolean (True/False) values in decision-making (like in if statements).'''"
   ]
  },
  {
   "cell_type": "code",
   "execution_count": null,
   "id": "da1f3415-7752-4f48-b754-a2ce963187fc",
   "metadata": {},
   "outputs": [],
   "source": [
    "'''Q9.)What is type casting in Python?\n",
    ">>type casting refer to change in data type from one to another there are 2 types of type catsing\n",
    "1.implicit:-done by complier on its own.\n",
    "2.explicit:-user has to do it else will give error'''"
   ]
  },
  {
   "cell_type": "code",
   "execution_count": null,
   "id": "f0cc7a81-f7f6-4b41-8d4d-4208dc40e2d8",
   "metadata": {},
   "outputs": [],
   "source": [
    "'''Q10.)What is the difference between implicit and explicit type casting?\n",
    ">>Implicit: Python automatically converts\n",
    " x = 5       # int\n",
    " y = 2.5     # float\n",
    " z = x + y   # Python converts x to float → z = 7.5\n",
    " Explicit: You manually convert types\n",
    " z = int(2.5)  # z = 2'''"
   ]
  },
  {
   "cell_type": "code",
   "execution_count": null,
   "id": "99cbc735-fd68-40f2-939a-819fc3356c12",
   "metadata": {},
   "outputs": [],
   "source": [
    "'''Q11.)What is the purpose of conditional statements in Python?\n",
    ">>Conditional statements are used to make decisions in a program.main purpose is to control the flow of execution — allowing the program to do     different things in different situations'''."
   ]
  },
  {
   "cell_type": "code",
   "execution_count": null,
   "id": "e97ea081-b987-401d-8787-8930b146d017",
   "metadata": {},
   "outputs": [],
   "source": [
    "'''Q12.)How does the elif statement work?\n",
    ">>if cond:\n",
    "    block of code\n",
    " elif cond:\n",
    "    block of code\n",
    " else:\n",
    "    block of code\n",
    " cond of if statement is true that particular block will run or excecute else if (elif) condition is true that block will excecute otherwise else bloxk  will get excecuted'''"
   ]
  },
  {
   "cell_type": "code",
   "execution_count": null,
   "id": "83f51ad0-8518-4915-882b-82098d831a1e",
   "metadata": {},
   "outputs": [],
   "source": [
    "'''Q13.)What is the difference between for and while loop?\n",
    ">>for loop work over sequence \n",
    "  while loop works till condition is true '''"
   ]
  },
  {
   "cell_type": "code",
   "execution_count": null,
   "id": "dc20863f-b603-4665-838b-b0721078028b",
   "metadata": {},
   "outputs": [],
   "source": [
    "'''Q14.)Describe a scenario where a while loop is more suitable than a for loop.\n",
    ">>A while loop is ideal when you don’t know in advance how many times the loop should run — it should continue until a condition becomes false.'''"
   ]
  },
  {
   "cell_type": "code",
   "execution_count": 1,
   "id": "03a53662-df2e-4644-8423-a8ac0178b259",
   "metadata": {},
   "outputs": [
    {
     "name": "stdout",
     "output_type": "stream",
     "text": [
      "hello world!\n"
     ]
    }
   ],
   "source": [
    "#Write a Python program to print \"Hello, World!\n",
    "print(\"hello world!\")"
   ]
  },
  {
   "cell_type": "code",
   "execution_count": 2,
   "id": "29e302cc-e9b3-4544-acf1-0acda42a4bdc",
   "metadata": {},
   "outputs": [
    {
     "name": "stdout",
     "output_type": "stream",
     "text": [
      "chhavi \n",
      " 20\n"
     ]
    }
   ],
   "source": [
    "#Write a Python program that displays your name and age\n",
    "print(\"chhavi \\n 20\")"
   ]
  },
  {
   "cell_type": "code",
   "execution_count": 6,
   "id": "9b5ea2cf-bb2d-4472-8747-bf06b83fb8b4",
   "metadata": {},
   "outputs": [
    {
     "name": "stdout",
     "output_type": "stream",
     "text": [
      "\n",
      "Here is a list of the Python keywords.  Enter any keyword to get more help.\n",
      "\n",
      "False               class               from                or\n",
      "None                continue            global              pass\n",
      "True                def                 if                  raise\n",
      "and                 del                 import              return\n",
      "as                  elif                in                  try\n",
      "assert              else                is                  while\n",
      "async               except              lambda              with\n",
      "await               finally             nonlocal            yield\n",
      "break               for                 not                 \n",
      "\n"
     ]
    }
   ],
   "source": [
    "#Write code to print all the pre-defined keywords in Python using the keyword library\n",
    "help('keywords')"
   ]
  },
  {
   "cell_type": "code",
   "execution_count": 7,
   "id": "d16d3a7a-83c4-44d9-8e08-061e8088a7db",
   "metadata": {},
   "outputs": [
    {
     "name": "stdin",
     "output_type": "stream",
     "text": [
      "enter a word for\n"
     ]
    },
    {
     "name": "stdout",
     "output_type": "stream",
     "text": [
      "is a keyword\n"
     ]
    }
   ],
   "source": [
    "#Write a program that checks if a given word is a Python keyword.\n",
    "import keyword\n",
    "word=input('enter a word')\n",
    "if keyword.iskeyword(word):\n",
    "    print(\"is a keyword\")\n",
    "else:\n",
    "    print(\"not a keyword\")"
   ]
  },
  {
   "cell_type": "code",
   "execution_count": 12,
   "id": "4efa8c01-9e61-4ff5-a32c-dc4fb9248e50",
   "metadata": {},
   "outputs": [
    {
     "name": "stdout",
     "output_type": "stream",
     "text": [
      "Original list: [10, 20, 30]\n",
      "Modified list: [10, 99, 30]\n",
      "Original tuple: (10, 20, 30)\n"
     ]
    },
    {
     "ename": "TypeError",
     "evalue": "'tuple' object does not support item assignment",
     "output_type": "error",
     "traceback": [
      "\u001b[1;31m---------------------------------------------------------------------------\u001b[0m",
      "\u001b[1;31mTypeError\u001b[0m                                 Traceback (most recent call last)",
      "Cell \u001b[1;32mIn[12], line 7\u001b[0m\n\u001b[0;32m      5\u001b[0m my_tuple \u001b[38;5;241m=\u001b[39m (\u001b[38;5;241m10\u001b[39m, \u001b[38;5;241m20\u001b[39m, \u001b[38;5;241m30\u001b[39m)\n\u001b[0;32m      6\u001b[0m \u001b[38;5;28mprint\u001b[39m(\u001b[38;5;124m\"\u001b[39m\u001b[38;5;124mOriginal tuple:\u001b[39m\u001b[38;5;124m\"\u001b[39m, my_tuple)\n\u001b[1;32m----> 7\u001b[0m my_tuple[\u001b[38;5;241m1\u001b[39m] \u001b[38;5;241m=\u001b[39m \u001b[38;5;241m99\u001b[39m \n\u001b[0;32m      8\u001b[0m \u001b[38;5;124;03m'''will throw error'''\u001b[39;00m\n",
      "\u001b[1;31mTypeError\u001b[0m: 'tuple' object does not support item assignment"
     ]
    }
   ],
   "source": [
    "# Create a list and tuple in Python, and demonstrate how attempting to change an element works differently for each.\n",
    "my_list = [10, 20, 30]\n",
    "print(\"Original list:\", my_list)\n",
    "my_list[1] = 99\n",
    "print(\"Modified list:\", my_list)\n",
    "my_tuple = (10, 20, 30)\n",
    "print(\"Original tuple:\", my_tuple)\n",
    "my_tuple[1] = 99 \n",
    "'''will throw error'''"
   ]
  },
  {
   "cell_type": "code",
   "execution_count": 3,
   "id": "b8e49b9f-84b4-4f89-b4ae-75d568536a90",
   "metadata": {},
   "outputs": [
    {
     "name": "stdin",
     "output_type": "stream",
     "text": [
      "enter one number 2\n",
      "enter second number 3\n"
     ]
    },
    {
     "name": "stdout",
     "output_type": "stream",
     "text": [
      "5\n",
      "-1\n",
      "6\n",
      "0.6666666666666666\n",
      "8\n"
     ]
    }
   ],
   "source": [
    "#Write a program that performs basic arithmetic operations on two user-input numbers\n",
    "a=input('enter one number')\n",
    "b=input('enter second number')\n",
    "c=int(a)\n",
    "d=int(b)\n",
    "print(c+d)\n",
    "print(c-d)\n",
    "print(c*d)\n",
    "print(c/d)\n",
    "print(c**d)"
   ]
  },
  {
   "cell_type": "code",
   "execution_count": 4,
   "id": "fe1243d0-5154-40c9-bbeb-922bcf0c0082",
   "metadata": {},
   "outputs": [
    {
     "name": "stdout",
     "output_type": "stream",
     "text": [
      "3\n",
      "2\n",
      "False\n"
     ]
    }
   ],
   "source": [
    "# Write a program to demonstrate the use of logical operators.\n",
    "a=2\n",
    "b=3\n",
    "print(a and b)\n",
    "print(a or b)\n",
    "print(not a)"
   ]
  },
  {
   "cell_type": "code",
   "execution_count": 5,
   "id": "48d2e0f6-9821-4951-ab33-6afeaf554be8",
   "metadata": {},
   "outputs": [
    {
     "name": "stdin",
     "output_type": "stream",
     "text": [
      "enter a number 2\n"
     ]
    },
    {
     "name": "stdout",
     "output_type": "stream",
     "text": [
      "2\n",
      "2.0\n",
      "True\n"
     ]
    }
   ],
   "source": [
    "#Write a Python program to convert user input from string to integer, float, and boolean types\n",
    "a=input('enter a number')\n",
    "b=int(a)\n",
    "print(b)\n",
    "c=float(a)\n",
    "print(c)\n",
    "d=bool(a)\n",
    "print(d)"
   ]
  },
  {
   "cell_type": "code",
   "execution_count": 6,
   "id": "df687fc7-3d17-4ec1-a77a-62c0c827e9ae",
   "metadata": {},
   "outputs": [
    {
     "name": "stdout",
     "output_type": "stream",
     "text": [
      "0.0\n",
      "bool: False\n",
      "1.0\n",
      "bool: True\n",
      "2.0\n",
      "bool: True\n",
      "3.0\n",
      "bool: True\n",
      "4.0\n",
      "bool: True\n"
     ]
    }
   ],
   "source": [
    "#Write code to demonstrate type casting with list elements\n",
    "my_list=[0,1,2,3,4]\n",
    "for i in range(0,5):\n",
    "    a=float(my_list[i])\n",
    "    print(a)\n",
    "    b=bool(my_list[i])\n",
    "    print(\"bool:\",b)"
   ]
  },
  {
   "cell_type": "code",
   "execution_count": 7,
   "id": "df5805aa-0b2e-4189-9bd9-1a0328942efd",
   "metadata": {},
   "outputs": [
    {
     "name": "stdin",
     "output_type": "stream",
     "text": [
      "enter number 3\n"
     ]
    },
    {
     "name": "stdout",
     "output_type": "stream",
     "text": [
      "positive\n"
     ]
    }
   ],
   "source": [
    "#Write a program that checks if a number is positive, negative, or zero.\n",
    "a=input(\"enter number\")\n",
    "b=int(a)\n",
    "if b>0:\n",
    "    print(\"positive\")\n",
    "elif b<0:\n",
    "    print(\"negative\")\n",
    "else:\n",
    "    print(\"zero\")"
   ]
  },
  {
   "cell_type": "code",
   "execution_count": 8,
   "id": "ab5aa422-084a-42c9-8148-015582eb888b",
   "metadata": {},
   "outputs": [
    {
     "name": "stdout",
     "output_type": "stream",
     "text": [
      "1\n",
      "2\n",
      "3\n",
      "4\n",
      "5\n",
      "6\n",
      "7\n",
      "8\n",
      "9\n",
      "10\n"
     ]
    }
   ],
   "source": [
    "# Write a for loop to print numbers from 1 to 10.\n",
    "for i in range(1,11):\n",
    "    print(i)"
   ]
  },
  {
   "cell_type": "code",
   "execution_count": 10,
   "id": "c0db9c83-dc9d-4e08-82f8-ac529155e149",
   "metadata": {},
   "outputs": [
    {
     "name": "stdout",
     "output_type": "stream",
     "text": [
      "sum= 650\n"
     ]
    }
   ],
   "source": [
    "#Write a Python program to find the sum of all even numbers between 1 and 50.\n",
    "sum=0\n",
    "for i in range(2,51,2):\n",
    "    sum=sum+i\n",
    "print(\"sum=\",sum)"
   ]
  },
  {
   "cell_type": "code",
   "execution_count": 9,
   "id": "11c774ec-3f1f-4752-b6a0-dd098ef49a3f",
   "metadata": {},
   "outputs": [
    {
     "name": "stdin",
     "output_type": "stream",
     "text": [
      "enter a string chhavi\n"
     ]
    },
    {
     "name": "stdout",
     "output_type": "stream",
     "text": [
      "ivahhc\n"
     ]
    }
   ],
   "source": [
    "#Write a program to reverse a string using a while loop.\n",
    "a=input(\"enter a string\")\n",
    "b=\"\"\n",
    "idx=len(a)-1\n",
    "while idx>=0:\n",
    "    b=b+a[idx]\n",
    "    idx=idx-1;\n",
    "print(b)"
   ]
  },
  {
   "cell_type": "code",
   "execution_count": 11,
   "id": "b41212cc-2828-4ef7-9603-9e6d91a9f95d",
   "metadata": {},
   "outputs": [
    {
     "name": "stdin",
     "output_type": "stream",
     "text": [
      "enter number 5\n"
     ]
    },
    {
     "name": "stdout",
     "output_type": "stream",
     "text": [
      "120\n"
     ]
    }
   ],
   "source": [
    "#Write a Python program to calculate the factorial of a number provided by the user using a while loop.\n",
    "num=input(\"enter number\")\n",
    "n=int(num)\n",
    "fact=1\n",
    "while n!=0:\n",
    "    if n==0 or n==1:\n",
    "        fact=fact\n",
    "    fact=fact*n\n",
    "    n=n-1\n",
    "print(fact)"
   ]
  }
 ],
 "metadata": {
  "kernelspec": {
   "display_name": "Python 3 (ipykernel)",
   "language": "python",
   "name": "python3"
  },
  "language_info": {
   "codemirror_mode": {
    "name": "ipython",
    "version": 3
   },
   "file_extension": ".py",
   "mimetype": "text/x-python",
   "name": "python",
   "nbconvert_exporter": "python",
   "pygments_lexer": "ipython3",
   "version": "3.12.7"
  }
 },
 "nbformat": 4,
 "nbformat_minor": 5
}
